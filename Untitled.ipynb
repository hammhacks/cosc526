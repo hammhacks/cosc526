{
 "cells": [
  {
   "cell_type": "code",
   "execution_count": 6,
   "id": "cf26e269-5004-48b4-ae40-a983e9e64a6a",
   "metadata": {},
   "outputs": [
    {
     "name": "stdout",
     "output_type": "stream",
     "text": [
      "hello, world!!2\n"
     ]
    }
   ],
   "source": [
    "print(\"hello, world!!2\")"
   ]
  },
  {
   "cell_type": "code",
   "execution_count": null,
   "id": "3e575961-59d8-4363-89bd-00803f675b45",
   "metadata": {},
   "outputs": [],
   "source": []
  }
 ],
 "metadata": {
  "kernelspec": {
   "display_name": "Python 3 (ipykernel)",
   "language": "python",
   "name": "python3"
  },
  "language_info": {
   "codemirror_mode": {
    "name": "ipython",
    "version": 3
   },
   "file_extension": ".py",
   "mimetype": "text/x-python",
   "name": "python",
   "nbconvert_exporter": "python",
   "pygments_lexer": "ipython3",
   "version": "3.13.3"
  }
 },
 "nbformat": 4,
 "nbformat_minor": 5
}
